{
  "nbformat": 4,
  "nbformat_minor": 0,
  "metadata": {
    "colab": {
      "provenance": []
    },
    "kernelspec": {
      "name": "python3",
      "display_name": "Python 3"
    },
    "language_info": {
      "name": "python"
    }
  },
  "cells": [
    {
      "cell_type": "code",
      "execution_count": 1,
      "metadata": {
        "id": "mK7tIxBXnk4R"
      },
      "outputs": [],
      "source": [
        "from tensorflow.keras.datasets import mnist\n",
        "from tensorflow.keras.layers import Dense, Reshape, Flatten\n",
        "from tensorflow.keras.models import Sequential\n",
        "from tensorflow.keras.optimizers import Adam\n",
        "import numpy as np\n",
        "import matplotlib.pyplot as plt"
      ]
    },
    {
      "cell_type": "markdown",
      "source": [
        "# Load MNIST data"
      ],
      "metadata": {
        "id": "xRGA1ASfnrFb"
      }
    },
    {
      "cell_type": "code",
      "source": [
        "(X_train, _), (_, _) = mnist.load_data()\n",
        "X_train = X_train / 127.5 - 1.0\n",
        "X_train = np.expand_dims(X_train, axis=3)"
      ],
      "metadata": {
        "colab": {
          "base_uri": "https://localhost:8080/"
        },
        "id": "K7ZzS9E8no3l",
        "outputId": "7ba24d29-6cc3-46f0-feba-c85eaaa512a6"
      },
      "execution_count": 2,
      "outputs": [
        {
          "output_type": "stream",
          "name": "stdout",
          "text": [
            "Downloading data from https://storage.googleapis.com/tensorflow/tf-keras-datasets/mnist.npz\n",
            "11490434/11490434 [==============================] - 0s 0us/step\n"
          ]
        }
      ]
    },
    {
      "cell_type": "markdown",
      "source": [
        "# Define the generator model"
      ],
      "metadata": {
        "id": "IBEKoBpenwir"
      }
    },
    {
      "cell_type": "markdown",
      "source": [],
      "metadata": {
        "id": "Oesp11i9nwcQ"
      }
    },
    {
      "cell_type": "code",
      "source": [
        "def build_generator():\n",
        "    generator = Sequential()\n",
        "    generator.add(Dense(128, input_shape=(100,), activation='relu'))\n",
        "    generator.add(Dense(784, activation='tanh'))\n",
        "    generator.add(Reshape((28, 28, 1)))\n",
        "    return generator"
      ],
      "metadata": {
        "id": "_yF4zLbXnuRs"
      },
      "execution_count": 3,
      "outputs": []
    },
    {
      "cell_type": "markdown",
      "source": [
        "# Define the discriminator model"
      ],
      "metadata": {
        "id": "pBOel1Amn2uL"
      }
    },
    {
      "cell_type": "code",
      "source": [
        "def build_discriminator():\n",
        "    discriminator = Sequential()\n",
        "    discriminator.add(Flatten(input_shape=(28, 28, 1)))\n",
        "    discriminator.add(Dense(128, activation='relu'))\n",
        "    discriminator.add(Dense(1, activation='sigmoid'))\n",
        "    return discriminator"
      ],
      "metadata": {
        "id": "l9QKGInInzxD"
      },
      "execution_count": 4,
      "outputs": []
    },
    {
      "cell_type": "markdown",
      "source": [
        "# Create the GAN by combining the generator and discriminator"
      ],
      "metadata": {
        "id": "l9PuHiA0oJ6l"
      }
    },
    {
      "cell_type": "code",
      "source": [
        "def build_gan(generator, discriminator):\n",
        "    discriminator.trainable = False  # Set the discriminator weights as non-trainable\n",
        "    gan = Sequential()\n",
        "    gan.add(generator)\n",
        "    gan.add(discriminator)\n",
        "    gan.compile(loss='binary_crossentropy', optimizer=Adam(lr=0.0002, beta_1=0.5))\n",
        "    return gan"
      ],
      "metadata": {
        "id": "SojKqeNHoBLv"
      },
      "execution_count": 5,
      "outputs": []
    },
    {
      "cell_type": "markdown",
      "source": [
        "# Build and compile the models"
      ],
      "metadata": {
        "id": "sPa0yjhjoOwS"
      }
    },
    {
      "cell_type": "code",
      "source": [
        "generator = build_generator()\n",
        "discriminator = build_discriminator()\n",
        "gan = build_gan(generator, discriminator)"
      ],
      "metadata": {
        "colab": {
          "base_uri": "https://localhost:8080/"
        },
        "id": "8BaXcOl8oMnH",
        "outputId": "cdc771af-574b-48ae-af93-9f96663261d1"
      },
      "execution_count": 6,
      "outputs": [
        {
          "output_type": "stream",
          "name": "stderr",
          "text": [
            "WARNING:absl:`lr` is deprecated in Keras optimizer, please use `learning_rate` or use the legacy optimizer, e.g.,tf.keras.optimizers.legacy.Adam.\n"
          ]
        }
      ]
    },
    {
      "cell_type": "code",
      "source": [],
      "metadata": {
        "id": "Ws6j1VpqoR7G"
      },
      "execution_count": null,
      "outputs": []
    }
  ]
}